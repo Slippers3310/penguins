{
  "cells": [
    {
      "cell_type": "markdown",
      "source": [
        "# Yeni Bölüm"
      ],
      "metadata": {
        "id": "aKwMnyWYYaIy"
      },
      "id": "aKwMnyWYYaIy"
    },
    {
      "cell_type": "markdown",
      "source": [
        "# 1- INTRODUCTION\n",
        "\n",
        "This dataset uploaded from my desktop which is penguin size file"
      ],
      "metadata": {
        "id": "lO5ywMFE-RD7"
      },
      "id": "lO5ywMFE-RD7"
    },
    {
      "cell_type": "code",
      "source": [
        "from google.colab import files\n",
        "uploaded = files.upload()\n",
        "import pandas as pd\n",
        "penguins = pd.read_csv('/content/penguins_size.csv')\n"
      ],
      "metadata": {
        "id": "mgNj15kk-Ezw",
        "outputId": "4352211f-9c7d-4946-ef58-41b1db25bd1b",
        "colab": {
          "base_uri": "https://localhost:8080/",
          "height": 38
        }
      },
      "id": "mgNj15kk-Ezw",
      "execution_count": null,
      "outputs": [
        {
          "output_type": "display_data",
          "data": {
            "text/plain": [
              "<IPython.core.display.HTML object>"
            ],
            "text/html": [
              "\n",
              "     <input type=\"file\" id=\"files-266f7b87-a767-44cd-b57e-162bcda2c76b\" name=\"files[]\" multiple disabled\n",
              "        style=\"border:none\" />\n",
              "     <output id=\"result-266f7b87-a767-44cd-b57e-162bcda2c76b\">\n",
              "      Upload widget is only available when the cell has been executed in the\n",
              "      current browser session. Please rerun this cell to enable.\n",
              "      </output>\n",
              "      <script>// Copyright 2017 Google LLC\n",
              "//\n",
              "// Licensed under the Apache License, Version 2.0 (the \"License\");\n",
              "// you may not use this file except in compliance with the License.\n",
              "// You may obtain a copy of the License at\n",
              "//\n",
              "//      http://www.apache.org/licenses/LICENSE-2.0\n",
              "//\n",
              "// Unless required by applicable law or agreed to in writing, software\n",
              "// distributed under the License is distributed on an \"AS IS\" BASIS,\n",
              "// WITHOUT WARRANTIES OR CONDITIONS OF ANY KIND, either express or implied.\n",
              "// See the License for the specific language governing permissions and\n",
              "// limitations under the License.\n",
              "\n",
              "/**\n",
              " * @fileoverview Helpers for google.colab Python module.\n",
              " */\n",
              "(function(scope) {\n",
              "function span(text, styleAttributes = {}) {\n",
              "  const element = document.createElement('span');\n",
              "  element.textContent = text;\n",
              "  for (const key of Object.keys(styleAttributes)) {\n",
              "    element.style[key] = styleAttributes[key];\n",
              "  }\n",
              "  return element;\n",
              "}\n",
              "\n",
              "// Max number of bytes which will be uploaded at a time.\n",
              "const MAX_PAYLOAD_SIZE = 100 * 1024;\n",
              "\n",
              "function _uploadFiles(inputId, outputId) {\n",
              "  const steps = uploadFilesStep(inputId, outputId);\n",
              "  const outputElement = document.getElementById(outputId);\n",
              "  // Cache steps on the outputElement to make it available for the next call\n",
              "  // to uploadFilesContinue from Python.\n",
              "  outputElement.steps = steps;\n",
              "\n",
              "  return _uploadFilesContinue(outputId);\n",
              "}\n",
              "\n",
              "// This is roughly an async generator (not supported in the browser yet),\n",
              "// where there are multiple asynchronous steps and the Python side is going\n",
              "// to poll for completion of each step.\n",
              "// This uses a Promise to block the python side on completion of each step,\n",
              "// then passes the result of the previous step as the input to the next step.\n",
              "function _uploadFilesContinue(outputId) {\n",
              "  const outputElement = document.getElementById(outputId);\n",
              "  const steps = outputElement.steps;\n",
              "\n",
              "  const next = steps.next(outputElement.lastPromiseValue);\n",
              "  return Promise.resolve(next.value.promise).then((value) => {\n",
              "    // Cache the last promise value to make it available to the next\n",
              "    // step of the generator.\n",
              "    outputElement.lastPromiseValue = value;\n",
              "    return next.value.response;\n",
              "  });\n",
              "}\n",
              "\n",
              "/**\n",
              " * Generator function which is called between each async step of the upload\n",
              " * process.\n",
              " * @param {string} inputId Element ID of the input file picker element.\n",
              " * @param {string} outputId Element ID of the output display.\n",
              " * @return {!Iterable<!Object>} Iterable of next steps.\n",
              " */\n",
              "function* uploadFilesStep(inputId, outputId) {\n",
              "  const inputElement = document.getElementById(inputId);\n",
              "  inputElement.disabled = false;\n",
              "\n",
              "  const outputElement = document.getElementById(outputId);\n",
              "  outputElement.innerHTML = '';\n",
              "\n",
              "  const pickedPromise = new Promise((resolve) => {\n",
              "    inputElement.addEventListener('change', (e) => {\n",
              "      resolve(e.target.files);\n",
              "    });\n",
              "  });\n",
              "\n",
              "  const cancel = document.createElement('button');\n",
              "  inputElement.parentElement.appendChild(cancel);\n",
              "  cancel.textContent = 'Cancel upload';\n",
              "  const cancelPromise = new Promise((resolve) => {\n",
              "    cancel.onclick = () => {\n",
              "      resolve(null);\n",
              "    };\n",
              "  });\n",
              "\n",
              "  // Wait for the user to pick the files.\n",
              "  const files = yield {\n",
              "    promise: Promise.race([pickedPromise, cancelPromise]),\n",
              "    response: {\n",
              "      action: 'starting',\n",
              "    }\n",
              "  };\n",
              "\n",
              "  cancel.remove();\n",
              "\n",
              "  // Disable the input element since further picks are not allowed.\n",
              "  inputElement.disabled = true;\n",
              "\n",
              "  if (!files) {\n",
              "    return {\n",
              "      response: {\n",
              "        action: 'complete',\n",
              "      }\n",
              "    };\n",
              "  }\n",
              "\n",
              "  for (const file of files) {\n",
              "    const li = document.createElement('li');\n",
              "    li.append(span(file.name, {fontWeight: 'bold'}));\n",
              "    li.append(span(\n",
              "        `(${file.type || 'n/a'}) - ${file.size} bytes, ` +\n",
              "        `last modified: ${\n",
              "            file.lastModifiedDate ? file.lastModifiedDate.toLocaleDateString() :\n",
              "                                    'n/a'} - `));\n",
              "    const percent = span('0% done');\n",
              "    li.appendChild(percent);\n",
              "\n",
              "    outputElement.appendChild(li);\n",
              "\n",
              "    const fileDataPromise = new Promise((resolve) => {\n",
              "      const reader = new FileReader();\n",
              "      reader.onload = (e) => {\n",
              "        resolve(e.target.result);\n",
              "      };\n",
              "      reader.readAsArrayBuffer(file);\n",
              "    });\n",
              "    // Wait for the data to be ready.\n",
              "    let fileData = yield {\n",
              "      promise: fileDataPromise,\n",
              "      response: {\n",
              "        action: 'continue',\n",
              "      }\n",
              "    };\n",
              "\n",
              "    // Use a chunked sending to avoid message size limits. See b/62115660.\n",
              "    let position = 0;\n",
              "    do {\n",
              "      const length = Math.min(fileData.byteLength - position, MAX_PAYLOAD_SIZE);\n",
              "      const chunk = new Uint8Array(fileData, position, length);\n",
              "      position += length;\n",
              "\n",
              "      const base64 = btoa(String.fromCharCode.apply(null, chunk));\n",
              "      yield {\n",
              "        response: {\n",
              "          action: 'append',\n",
              "          file: file.name,\n",
              "          data: base64,\n",
              "        },\n",
              "      };\n",
              "\n",
              "      let percentDone = fileData.byteLength === 0 ?\n",
              "          100 :\n",
              "          Math.round((position / fileData.byteLength) * 100);\n",
              "      percent.textContent = `${percentDone}% done`;\n",
              "\n",
              "    } while (position < fileData.byteLength);\n",
              "  }\n",
              "\n",
              "  // All done.\n",
              "  yield {\n",
              "    response: {\n",
              "      action: 'complete',\n",
              "    }\n",
              "  };\n",
              "}\n",
              "\n",
              "scope.google = scope.google || {};\n",
              "scope.google.colab = scope.google.colab || {};\n",
              "scope.google.colab._files = {\n",
              "  _uploadFiles,\n",
              "  _uploadFilesContinue,\n",
              "};\n",
              "})(self);\n",
              "</script> "
            ]
          },
          "metadata": {}
        }
      ]
    },
    {
      "cell_type": "markdown",
      "source": [
        "# 2- Exploratory Data Analysis, Data Visualization, Data Preparation and Feature Engineering"
      ],
      "metadata": {
        "id": "7K7Beoko-0iM"
      },
      "id": "7K7Beoko-0iM"
    },
    {
      "cell_type": "markdown",
      "source": [
        "This cell's aim is data preparation. We are going to get to know the data and find the missing values"
      ],
      "metadata": {
        "id": "Pe6nJF6d_Fnx"
      },
      "id": "Pe6nJF6d_Fnx"
    },
    {
      "cell_type": "code",
      "source": [
        "penguins.shape\n"
      ],
      "metadata": {
        "id": "xNfWP6-G_e8n"
      },
      "id": "xNfWP6-G_e8n",
      "execution_count": null,
      "outputs": []
    },
    {
      "cell_type": "code",
      "source": [
        "penguins.info()\n",
        "\n",
        "\n"
      ],
      "metadata": {
        "id": "KbB3uhZpAQNb"
      },
      "id": "KbB3uhZpAQNb",
      "execution_count": null,
      "outputs": []
    },
    {
      "cell_type": "code",
      "source": [
        "penguins.head()\n",
        "\n"
      ],
      "metadata": {
        "id": "fv9mqc3TATsd"
      },
      "id": "fv9mqc3TATsd",
      "execution_count": null,
      "outputs": []
    },
    {
      "cell_type": "code",
      "source": [
        "penguins.isnull().sum()"
      ],
      "metadata": {
        "id": "je3qDFRKAWFt"
      },
      "id": "je3qDFRKAWFt",
      "execution_count": null,
      "outputs": []
    },
    {
      "cell_type": "markdown",
      "source": [
        "### penguins.shape => to find out how many rows and columns the data consists of\n",
        "\n",
        "### penguins.info() => see all the column names and types in the dataset\n",
        "### penguins.head() => to see the first 5 rows\n",
        "\n",
        "### penguins.isnull().sum() => to check if there are missing values ​​in the dataset"
      ],
      "metadata": {
        "id": "Nsi1ty2oAVx-"
      },
      "id": "Nsi1ty2oAVx-"
    },
    {
      "cell_type": "markdown",
      "source": [
        "### 2.1 Scatterplot, Boxplots and Pairplots"
      ],
      "metadata": {
        "id": "8HT1WgXK_eOm"
      },
      "id": "8HT1WgXK_eOm"
    },
    {
      "cell_type": "markdown",
      "source": [
        "Scatter Plot\n",
        "\n",
        "A scatter plot is a graph that visualizes the relationship between two continuous variables in data. This  graph,  examine the linear or non-linear relationship between two variables. Each point represents a sample (row) in the data."
      ],
      "metadata": {
        "id": "nYrQsgZPC-SP"
      },
      "id": "nYrQsgZPC-SP"
    },
    {
      "cell_type": "code",
      "source": [
        "# Scatterplot: relationship between culmen_length_mm and flipper_length_mm\n",
        "plt.figure(figsize=(8, 6))\n",
        "sns.scatterplot(x='culmen_length_mm', y='flipper_length_mm', hue='species', data=penguins)\n",
        "plt.title('Culmen Length vs Flipper Length')\n",
        "plt.xlabel('Culmen Length (mm)')\n",
        "plt.ylabel('Flipper Length (mm)')\n",
        "plt.show()\n",
        "\n"
      ],
      "metadata": {
        "id": "qa1b9zgJDHU_"
      },
      "id": "qa1b9zgJDHU_",
      "execution_count": null,
      "outputs": []
    },
    {
      "cell_type": "markdown",
      "source": [
        "Boxplot\n",
        "\n",
        "A box plot is a graph that visualizes a summary of numerical data. It shows the central tendency, spread, quartiles, and outliers of the data. For each type, the box plot shows the min, 25th percentile, median (50th percentile), 75th percentile, and maximum values. The points outside the box are outliers."
      ],
      "metadata": {
        "id": "SW2XcIDrEIKD"
      },
      "id": "SW2XcIDrEIKD"
    },
    {
      "cell_type": "code",
      "source": [
        "\n",
        "plt.figure(figsize=(8, 6))\n",
        "sns.boxplot(x='species', y='flipper_length_mm', data=penguins)\n",
        "plt.title('Species based Flipper Length Distribution')\n",
        "plt.show()"
      ],
      "metadata": {
        "id": "kq7ZO5pzEHzU"
      },
      "id": "kq7ZO5pzEHzU",
      "execution_count": null,
      "outputs": []
    },
    {
      "cell_type": "markdown",
      "source": [
        "Pairplot\n",
        "\n",
        "A pairplot shows the relationship between multiple variables with multiple scatterplots. This visualization is very useful for exploring the pairwise relationships between numerical variables. It also shows the distribution of each feature of the data.For example, let's visualize the relationships between all numerical features and separate them with different colors based on species:"
      ],
      "metadata": {
        "id": "TdQ1FTNnEXXX"
      },
      "id": "TdQ1FTNnEXXX"
    },
    {
      "cell_type": "code",
      "source": [
        "\n",
        "sns.pairplot(penguins, hue='species', markers=[\"o\", \"s\", \"D\"], palette='Set2')\n",
        "plt.show()\n"
      ],
      "metadata": {
        "id": "cmj75q4hEo-a"
      },
      "id": "cmj75q4hEo-a",
      "execution_count": null,
      "outputs": []
    },
    {
      "cell_type": "markdown",
      "source": [
        "### 2.2 - missing or null values and for any anomalies"
      ],
      "metadata": {
        "id": "XFSMhfm-FxFF"
      },
      "id": "XFSMhfm-FxFF"
    },
    {
      "cell_type": "code",
      "source": [
        "\n",
        "print(penguins.isnull().sum())\n"
      ],
      "metadata": {
        "id": "Dc-vteC-FxmQ"
      },
      "id": "Dc-vteC-FxmQ",
      "execution_count": null,
      "outputs": []
    },
    {
      "cell_type": "markdown",
      "source": [
        "To handle with null values we can fill by Mean, Mode and Median."
      ],
      "metadata": {
        "id": "iSAllR6VF58y"
      },
      "id": "iSAllR6VF58y"
    },
    {
      "cell_type": "code",
      "source": [
        "penguins['culmen_length_mm'].fillna(penguins['culmen_length_mm'].median(), inplace=True)\n"
      ],
      "metadata": {
        "id": "CjWonJkHGJTg"
      },
      "id": "CjWonJkHGJTg",
      "execution_count": null,
      "outputs": []
    },
    {
      "cell_type": "code",
      "source": [
        "penguins['species'].fillna(penguins['species'].mode()[0], inplace=True)\n"
      ],
      "metadata": {
        "id": "_d8NgfrTGNfb"
      },
      "id": "_d8NgfrTGNfb",
      "execution_count": null,
      "outputs": []
    },
    {
      "cell_type": "markdown",
      "source": [
        "### 2.3 Encoding using Pandas\n",
        "\n",
        "One Hot Encoding (OHE) is a common method of converting categorical data into numeric data. In this process, a new column is created for each category and in the rows corresponding to each category, one of these columns is marked as 1 (true) while the others are 0 (false)."
      ],
      "metadata": {
        "id": "stXiYzmcGNMN"
      },
      "id": "stXiYzmcGNMN"
    },
    {
      "cell_type": "code",
      "source": [
        "import pandas as pd\n",
        "\n",
        "# Örnek bir veri seti\n",
        "data = pd.DataFrame({\n",
        "    'sex': ['MALE', 'FEMALE', 'FEMALE', 'MALE'],\n",
        "    'species': ['Adelie', 'Chinstrap', 'Gentoo', 'Adelie']\n",
        "})\n",
        "\n",
        "# One Hot Encoding\n",
        "data_encoded = pd.get_dummies(data, columns=['sex', 'species'])\n",
        "\n",
        "print(data_encoded)\n"
      ],
      "metadata": {
        "id": "OycJDvvfGfFt"
      },
      "id": "OycJDvvfGfFt",
      "execution_count": null,
      "outputs": []
    },
    {
      "cell_type": "markdown",
      "source": [
        "Why we used Pandas here is\n",
        "\n",
        "Pandas makes it very easy to organize, filter and transform data with its DataFrame structure.\n",
        "\n",
        "Pandas provides a very useful function, get_dummies(), to transform categorical data with One Hot Encoding.\n",
        "\n",
        "Pandas allows you to group, filter, transform and analyze data very quickly and flexibly."
      ],
      "metadata": {
        "id": "x8MTTjqSHL2O"
      },
      "id": "x8MTTjqSHL2O"
    },
    {
      "cell_type": "markdown",
      "source": [
        "Splitting Dataset\n",
        "\n",
        "Training Set (X_train, y_train): Used for model learning.\n",
        "\n",
        "Test Set (X_test, y_test): Used to evaluate the model's performance after learning."
      ],
      "metadata": {
        "id": "qlDCUULbIEJu"
      },
      "id": "qlDCUULbIEJu"
    },
    {
      "cell_type": "code",
      "source": [
        "from sklearn.model_selection import train_test_split\n",
        "\n",
        "# X (özellikler) ve y (hedef değişken) olarak ayırıyoruz\n",
        "X = penguins.drop(['species'], axis=1)  # bağımsız değişkenler\n",
        "y = penguins['species']  # hedef değişken\n",
        "\n",
        "# Eğitim ve test verilerini ayırıyoruz (%30 test, %70 eğitim)\n",
        "X_train, X_test, y_train, y_test = train_test_split(X, y, test_size=0.3, random_state=42)\n",
        "\n",
        "# Eğitim seti ve test seti oluşturuldu\n"
      ],
      "metadata": {
        "id": "CeFxNX76IL-v"
      },
      "id": "CeFxNX76IL-v",
      "execution_count": null,
      "outputs": []
    },
    {
      "cell_type": "markdown",
      "source": [
        "# 3- Building the Models\n"
      ],
      "metadata": {
        "id": "AIVwdnVNInoX"
      },
      "id": "AIVwdnVNInoX"
    },
    {
      "cell_type": "markdown",
      "source": [],
      "metadata": {
        "id": "cMZKUZZQXTEQ"
      },
      "id": "cMZKUZZQXTEQ"
    }
  ],
  "metadata": {
    "kernelspec": {
      "display_name": "Python 3",
      "name": "python3"
    },
    "language_info": {
      "name": "python"
    },
    "required_libs": [],
    "colab": {
      "provenance": [],
      "toc_visible": true
    }
  },
  "nbformat": 4,
  "nbformat_minor": 5
}